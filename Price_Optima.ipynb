{
 "cells": [
  {
   "cell_type": "markdown",
   "id": "7bd86829-7741-495c-b086-91a6676fe694",
   "metadata": {},
   "source": [
    "### Reading csv file using pandas and printing the first five rows of dataset"
   ]
  },
  {
   "cell_type": "code",
   "execution_count": 2,
   "id": "a12873e2-33f6-48c7-953d-aacc3e60ab85",
   "metadata": {},
   "outputs": [
    {
     "data": {
      "text/html": [
       "<div>\n",
       "<style scoped>\n",
       "    .dataframe tbody tr th:only-of-type {\n",
       "        vertical-align: middle;\n",
       "    }\n",
       "\n",
       "    .dataframe tbody tr th {\n",
       "        vertical-align: top;\n",
       "    }\n",
       "\n",
       "    .dataframe thead th {\n",
       "        text-align: right;\n",
       "    }\n",
       "</style>\n",
       "<table border=\"1\" class=\"dataframe\">\n",
       "  <thead>\n",
       "    <tr style=\"text-align: right;\">\n",
       "      <th></th>\n",
       "      <th>Number_of_Riders</th>\n",
       "      <th>Number_of_Drivers</th>\n",
       "      <th>Location_Category</th>\n",
       "      <th>Customer_Loyalty_Status</th>\n",
       "      <th>Number_of_Past_Rides</th>\n",
       "      <th>Average_Ratings</th>\n",
       "      <th>Time_of_Booking</th>\n",
       "      <th>Vehicle_Type</th>\n",
       "      <th>Expected_Ride_Duration</th>\n",
       "      <th>Historical_Cost_of_Ride</th>\n",
       "    </tr>\n",
       "  </thead>\n",
       "  <tbody>\n",
       "    <tr>\n",
       "      <th>0</th>\n",
       "      <td>90</td>\n",
       "      <td>45</td>\n",
       "      <td>Urban</td>\n",
       "      <td>Silver</td>\n",
       "      <td>13</td>\n",
       "      <td>4.47</td>\n",
       "      <td>Night</td>\n",
       "      <td>Premium</td>\n",
       "      <td>90</td>\n",
       "      <td>284.257273</td>\n",
       "    </tr>\n",
       "    <tr>\n",
       "      <th>1</th>\n",
       "      <td>58</td>\n",
       "      <td>39</td>\n",
       "      <td>Suburban</td>\n",
       "      <td>Silver</td>\n",
       "      <td>72</td>\n",
       "      <td>4.06</td>\n",
       "      <td>Evening</td>\n",
       "      <td>Economy</td>\n",
       "      <td>43</td>\n",
       "      <td>173.874753</td>\n",
       "    </tr>\n",
       "    <tr>\n",
       "      <th>2</th>\n",
       "      <td>42</td>\n",
       "      <td>31</td>\n",
       "      <td>Rural</td>\n",
       "      <td>Silver</td>\n",
       "      <td>0</td>\n",
       "      <td>3.99</td>\n",
       "      <td>Afternoon</td>\n",
       "      <td>Premium</td>\n",
       "      <td>76</td>\n",
       "      <td>329.795469</td>\n",
       "    </tr>\n",
       "    <tr>\n",
       "      <th>3</th>\n",
       "      <td>89</td>\n",
       "      <td>28</td>\n",
       "      <td>Rural</td>\n",
       "      <td>Regular</td>\n",
       "      <td>67</td>\n",
       "      <td>4.31</td>\n",
       "      <td>Afternoon</td>\n",
       "      <td>Premium</td>\n",
       "      <td>134</td>\n",
       "      <td>470.201232</td>\n",
       "    </tr>\n",
       "    <tr>\n",
       "      <th>4</th>\n",
       "      <td>78</td>\n",
       "      <td>22</td>\n",
       "      <td>Rural</td>\n",
       "      <td>Regular</td>\n",
       "      <td>74</td>\n",
       "      <td>3.77</td>\n",
       "      <td>Afternoon</td>\n",
       "      <td>Economy</td>\n",
       "      <td>149</td>\n",
       "      <td>579.681422</td>\n",
       "    </tr>\n",
       "  </tbody>\n",
       "</table>\n",
       "</div>"
      ],
      "text/plain": [
       "   Number_of_Riders  Number_of_Drivers Location_Category  \\\n",
       "0                90                 45             Urban   \n",
       "1                58                 39          Suburban   \n",
       "2                42                 31             Rural   \n",
       "3                89                 28             Rural   \n",
       "4                78                 22             Rural   \n",
       "\n",
       "  Customer_Loyalty_Status  Number_of_Past_Rides  Average_Ratings  \\\n",
       "0                  Silver                    13             4.47   \n",
       "1                  Silver                    72             4.06   \n",
       "2                  Silver                     0             3.99   \n",
       "3                 Regular                    67             4.31   \n",
       "4                 Regular                    74             3.77   \n",
       "\n",
       "  Time_of_Booking Vehicle_Type  Expected_Ride_Duration  \\\n",
       "0           Night      Premium                      90   \n",
       "1         Evening      Economy                      43   \n",
       "2       Afternoon      Premium                      76   \n",
       "3       Afternoon      Premium                     134   \n",
       "4       Afternoon      Economy                     149   \n",
       "\n",
       "   Historical_Cost_of_Ride  \n",
       "0               284.257273  \n",
       "1               173.874753  \n",
       "2               329.795469  \n",
       "3               470.201232  \n",
       "4               579.681422  "
      ]
     },
     "execution_count": 2,
     "metadata": {},
     "output_type": "execute_result"
    }
   ],
   "source": [
    "import pandas as pd\n",
    "import numpy as np\n",
    "df = pd.read_csv('dynamic_pricing.csv')\n",
    "df.head()"
   ]
  },
  {
   "cell_type": "markdown",
   "id": "47d3fad7-3721-40e4-8c2d-74ed47c51a47",
   "metadata": {},
   "source": [
    "### Printing the last five rows of dataset"
   ]
  },
  {
   "cell_type": "code",
   "execution_count": 4,
   "id": "1b0c1f7f-3efd-4825-82b0-dc390c390873",
   "metadata": {},
   "outputs": [
    {
     "data": {
      "text/html": [
       "<div>\n",
       "<style scoped>\n",
       "    .dataframe tbody tr th:only-of-type {\n",
       "        vertical-align: middle;\n",
       "    }\n",
       "\n",
       "    .dataframe tbody tr th {\n",
       "        vertical-align: top;\n",
       "    }\n",
       "\n",
       "    .dataframe thead th {\n",
       "        text-align: right;\n",
       "    }\n",
       "</style>\n",
       "<table border=\"1\" class=\"dataframe\">\n",
       "  <thead>\n",
       "    <tr style=\"text-align: right;\">\n",
       "      <th></th>\n",
       "      <th>Number_of_Riders</th>\n",
       "      <th>Number_of_Drivers</th>\n",
       "      <th>Location_Category</th>\n",
       "      <th>Customer_Loyalty_Status</th>\n",
       "      <th>Number_of_Past_Rides</th>\n",
       "      <th>Average_Ratings</th>\n",
       "      <th>Time_of_Booking</th>\n",
       "      <th>Vehicle_Type</th>\n",
       "      <th>Expected_Ride_Duration</th>\n",
       "      <th>Historical_Cost_of_Ride</th>\n",
       "    </tr>\n",
       "  </thead>\n",
       "  <tbody>\n",
       "    <tr>\n",
       "      <th>995</th>\n",
       "      <td>33</td>\n",
       "      <td>23</td>\n",
       "      <td>Urban</td>\n",
       "      <td>Gold</td>\n",
       "      <td>24</td>\n",
       "      <td>4.21</td>\n",
       "      <td>Morning</td>\n",
       "      <td>Premium</td>\n",
       "      <td>11</td>\n",
       "      <td>91.389526</td>\n",
       "    </tr>\n",
       "    <tr>\n",
       "      <th>996</th>\n",
       "      <td>84</td>\n",
       "      <td>29</td>\n",
       "      <td>Urban</td>\n",
       "      <td>Regular</td>\n",
       "      <td>92</td>\n",
       "      <td>4.55</td>\n",
       "      <td>Morning</td>\n",
       "      <td>Premium</td>\n",
       "      <td>94</td>\n",
       "      <td>424.155987</td>\n",
       "    </tr>\n",
       "    <tr>\n",
       "      <th>997</th>\n",
       "      <td>44</td>\n",
       "      <td>6</td>\n",
       "      <td>Suburban</td>\n",
       "      <td>Gold</td>\n",
       "      <td>80</td>\n",
       "      <td>4.13</td>\n",
       "      <td>Night</td>\n",
       "      <td>Premium</td>\n",
       "      <td>40</td>\n",
       "      <td>157.364830</td>\n",
       "    </tr>\n",
       "    <tr>\n",
       "      <th>998</th>\n",
       "      <td>53</td>\n",
       "      <td>27</td>\n",
       "      <td>Suburban</td>\n",
       "      <td>Regular</td>\n",
       "      <td>78</td>\n",
       "      <td>3.63</td>\n",
       "      <td>Night</td>\n",
       "      <td>Premium</td>\n",
       "      <td>58</td>\n",
       "      <td>279.095048</td>\n",
       "    </tr>\n",
       "    <tr>\n",
       "      <th>999</th>\n",
       "      <td>78</td>\n",
       "      <td>63</td>\n",
       "      <td>Rural</td>\n",
       "      <td>Gold</td>\n",
       "      <td>14</td>\n",
       "      <td>4.21</td>\n",
       "      <td>Afternoon</td>\n",
       "      <td>Economy</td>\n",
       "      <td>147</td>\n",
       "      <td>655.065106</td>\n",
       "    </tr>\n",
       "  </tbody>\n",
       "</table>\n",
       "</div>"
      ],
      "text/plain": [
       "     Number_of_Riders  Number_of_Drivers Location_Category  \\\n",
       "995                33                 23             Urban   \n",
       "996                84                 29             Urban   \n",
       "997                44                  6          Suburban   \n",
       "998                53                 27          Suburban   \n",
       "999                78                 63             Rural   \n",
       "\n",
       "    Customer_Loyalty_Status  Number_of_Past_Rides  Average_Ratings  \\\n",
       "995                    Gold                    24             4.21   \n",
       "996                 Regular                    92             4.55   \n",
       "997                    Gold                    80             4.13   \n",
       "998                 Regular                    78             3.63   \n",
       "999                    Gold                    14             4.21   \n",
       "\n",
       "    Time_of_Booking Vehicle_Type  Expected_Ride_Duration  \\\n",
       "995         Morning      Premium                      11   \n",
       "996         Morning      Premium                      94   \n",
       "997           Night      Premium                      40   \n",
       "998           Night      Premium                      58   \n",
       "999       Afternoon      Economy                     147   \n",
       "\n",
       "     Historical_Cost_of_Ride  \n",
       "995                91.389526  \n",
       "996               424.155987  \n",
       "997               157.364830  \n",
       "998               279.095048  \n",
       "999               655.065106  "
      ]
     },
     "execution_count": 4,
     "metadata": {},
     "output_type": "execute_result"
    }
   ],
   "source": [
    "df.tail()"
   ]
  },
  {
   "cell_type": "markdown",
   "id": "67d0d4f1-f33d-4063-889d-610346ae47f7",
   "metadata": {},
   "source": [
    "### Displaying the dimensions (rows, columns) of the dataset"
   ]
  },
  {
   "cell_type": "code",
   "execution_count": 5,
   "id": "c4a6bed4-6ead-4254-8146-15fda5f2841a",
   "metadata": {},
   "outputs": [
    {
     "data": {
      "text/plain": [
       "(1000, 10)"
      ]
     },
     "execution_count": 5,
     "metadata": {},
     "output_type": "execute_result"
    }
   ],
   "source": [
    "df.shape"
   ]
  },
  {
   "cell_type": "markdown",
   "id": "b62b0f2e-3949-4047-b195-34b1bb3e5e68",
   "metadata": {},
   "source": [
    "### Summary of Dataset"
   ]
  },
  {
   "cell_type": "code",
   "execution_count": 6,
   "id": "6c94a132-b213-4921-a3b4-3000f9d56b93",
   "metadata": {},
   "outputs": [
    {
     "name": "stdout",
     "output_type": "stream",
     "text": [
      "<class 'pandas.core.frame.DataFrame'>\n",
      "RangeIndex: 1000 entries, 0 to 999\n",
      "Data columns (total 10 columns):\n",
      " #   Column                   Non-Null Count  Dtype  \n",
      "---  ------                   --------------  -----  \n",
      " 0   Number_of_Riders         1000 non-null   int64  \n",
      " 1   Number_of_Drivers        1000 non-null   int64  \n",
      " 2   Location_Category        1000 non-null   object \n",
      " 3   Customer_Loyalty_Status  1000 non-null   object \n",
      " 4   Number_of_Past_Rides     1000 non-null   int64  \n",
      " 5   Average_Ratings          1000 non-null   float64\n",
      " 6   Time_of_Booking          1000 non-null   object \n",
      " 7   Vehicle_Type             1000 non-null   object \n",
      " 8   Expected_Ride_Duration   1000 non-null   int64  \n",
      " 9   Historical_Cost_of_Ride  1000 non-null   float64\n",
      "dtypes: float64(2), int64(4), object(4)\n",
      "memory usage: 78.3+ KB\n"
     ]
    }
   ],
   "source": [
    "df.info()"
   ]
  },
  {
   "cell_type": "markdown",
   "id": "5ca7e04d-1cee-4518-a3fe-50bd4b0101c6",
   "metadata": {},
   "source": [
    "### Descriptive statistics of the Dataset"
   ]
  },
  {
   "cell_type": "code",
   "execution_count": 7,
   "id": "036798d4-bb64-4cc1-b90d-29f938d36c1e",
   "metadata": {},
   "outputs": [
    {
     "data": {
      "text/html": [
       "<div>\n",
       "<style scoped>\n",
       "    .dataframe tbody tr th:only-of-type {\n",
       "        vertical-align: middle;\n",
       "    }\n",
       "\n",
       "    .dataframe tbody tr th {\n",
       "        vertical-align: top;\n",
       "    }\n",
       "\n",
       "    .dataframe thead th {\n",
       "        text-align: right;\n",
       "    }\n",
       "</style>\n",
       "<table border=\"1\" class=\"dataframe\">\n",
       "  <thead>\n",
       "    <tr style=\"text-align: right;\">\n",
       "      <th></th>\n",
       "      <th>Number_of_Riders</th>\n",
       "      <th>Number_of_Drivers</th>\n",
       "      <th>Number_of_Past_Rides</th>\n",
       "      <th>Average_Ratings</th>\n",
       "      <th>Expected_Ride_Duration</th>\n",
       "      <th>Historical_Cost_of_Ride</th>\n",
       "    </tr>\n",
       "  </thead>\n",
       "  <tbody>\n",
       "    <tr>\n",
       "      <th>count</th>\n",
       "      <td>1000.000000</td>\n",
       "      <td>1000.000000</td>\n",
       "      <td>1000.000000</td>\n",
       "      <td>1000.000000</td>\n",
       "      <td>1000.00000</td>\n",
       "      <td>1000.000000</td>\n",
       "    </tr>\n",
       "    <tr>\n",
       "      <th>mean</th>\n",
       "      <td>60.372000</td>\n",
       "      <td>27.076000</td>\n",
       "      <td>50.031000</td>\n",
       "      <td>4.257220</td>\n",
       "      <td>99.58800</td>\n",
       "      <td>372.502623</td>\n",
       "    </tr>\n",
       "    <tr>\n",
       "      <th>std</th>\n",
       "      <td>23.701506</td>\n",
       "      <td>19.068346</td>\n",
       "      <td>29.313774</td>\n",
       "      <td>0.435781</td>\n",
       "      <td>49.16545</td>\n",
       "      <td>187.158756</td>\n",
       "    </tr>\n",
       "    <tr>\n",
       "      <th>min</th>\n",
       "      <td>20.000000</td>\n",
       "      <td>5.000000</td>\n",
       "      <td>0.000000</td>\n",
       "      <td>3.500000</td>\n",
       "      <td>10.00000</td>\n",
       "      <td>25.993449</td>\n",
       "    </tr>\n",
       "    <tr>\n",
       "      <th>25%</th>\n",
       "      <td>40.000000</td>\n",
       "      <td>11.000000</td>\n",
       "      <td>25.000000</td>\n",
       "      <td>3.870000</td>\n",
       "      <td>59.75000</td>\n",
       "      <td>221.365202</td>\n",
       "    </tr>\n",
       "    <tr>\n",
       "      <th>50%</th>\n",
       "      <td>60.000000</td>\n",
       "      <td>22.000000</td>\n",
       "      <td>51.000000</td>\n",
       "      <td>4.270000</td>\n",
       "      <td>102.00000</td>\n",
       "      <td>362.019426</td>\n",
       "    </tr>\n",
       "    <tr>\n",
       "      <th>75%</th>\n",
       "      <td>81.000000</td>\n",
       "      <td>38.000000</td>\n",
       "      <td>75.000000</td>\n",
       "      <td>4.632500</td>\n",
       "      <td>143.00000</td>\n",
       "      <td>510.497504</td>\n",
       "    </tr>\n",
       "    <tr>\n",
       "      <th>max</th>\n",
       "      <td>100.000000</td>\n",
       "      <td>89.000000</td>\n",
       "      <td>100.000000</td>\n",
       "      <td>5.000000</td>\n",
       "      <td>180.00000</td>\n",
       "      <td>836.116419</td>\n",
       "    </tr>\n",
       "  </tbody>\n",
       "</table>\n",
       "</div>"
      ],
      "text/plain": [
       "       Number_of_Riders  Number_of_Drivers  Number_of_Past_Rides  \\\n",
       "count       1000.000000        1000.000000           1000.000000   \n",
       "mean          60.372000          27.076000             50.031000   \n",
       "std           23.701506          19.068346             29.313774   \n",
       "min           20.000000           5.000000              0.000000   \n",
       "25%           40.000000          11.000000             25.000000   \n",
       "50%           60.000000          22.000000             51.000000   \n",
       "75%           81.000000          38.000000             75.000000   \n",
       "max          100.000000          89.000000            100.000000   \n",
       "\n",
       "       Average_Ratings  Expected_Ride_Duration  Historical_Cost_of_Ride  \n",
       "count      1000.000000              1000.00000              1000.000000  \n",
       "mean          4.257220                99.58800               372.502623  \n",
       "std           0.435781                49.16545               187.158756  \n",
       "min           3.500000                10.00000                25.993449  \n",
       "25%           3.870000                59.75000               221.365202  \n",
       "50%           4.270000               102.00000               362.019426  \n",
       "75%           4.632500               143.00000               510.497504  \n",
       "max           5.000000               180.00000               836.116419  "
      ]
     },
     "execution_count": 7,
     "metadata": {},
     "output_type": "execute_result"
    }
   ],
   "source": [
    "df.describe()"
   ]
  },
  {
   "cell_type": "markdown",
   "id": "721df7b2-9cd7-4082-a5a9-21bb8b5713c5",
   "metadata": {},
   "source": [
    "### Total Number of missing values in each column"
   ]
  },
  {
   "cell_type": "code",
   "execution_count": 3,
   "id": "81202330-346c-4122-826e-850f3e925d9a",
   "metadata": {},
   "outputs": [
    {
     "data": {
      "text/plain": [
       "Number_of_Riders           0\n",
       "Number_of_Drivers          0\n",
       "Location_Category          0\n",
       "Customer_Loyalty_Status    0\n",
       "Number_of_Past_Rides       0\n",
       "Average_Ratings            0\n",
       "Time_of_Booking            0\n",
       "Vehicle_Type               0\n",
       "Expected_Ride_Duration     0\n",
       "Historical_Cost_of_Ride    0\n",
       "dtype: int64"
      ]
     },
     "execution_count": 3,
     "metadata": {},
     "output_type": "execute_result"
    }
   ],
   "source": [
    "df.isnull().sum()"
   ]
  },
  {
   "cell_type": "markdown",
   "id": "45dfd175-16ee-49bb-9635-b89d05847451",
   "metadata": {},
   "source": [
    "### Total Number of duplicated rows in dataset"
   ]
  },
  {
   "cell_type": "code",
   "execution_count": 11,
   "id": "2d1685ff-2dcb-4b90-938f-797796fe5647",
   "metadata": {},
   "outputs": [
    {
     "data": {
      "text/plain": [
       "np.int64(0)"
      ]
     },
     "execution_count": 11,
     "metadata": {},
     "output_type": "execute_result"
    }
   ],
   "source": [
    "df.duplicated().sum()"
   ]
  },
  {
   "cell_type": "markdown",
   "id": "e7c14aec-ec9b-450e-b72d-9f8ba0977fb0",
   "metadata": {},
   "source": [
    "### Finding which columns are unique in dataset"
   ]
  },
  {
   "cell_type": "code",
   "execution_count": 15,
   "id": "5695c40c-9168-43ed-948c-2e42c63e1bde",
   "metadata": {},
   "outputs": [
    {
     "name": "stdout",
     "output_type": "stream",
     "text": [
      "{'Historical_Cost_of_Ride'}\n"
     ]
    }
   ],
   "source": [
    "for col in df.columns:\n",
    "    if df[col].is_unique:\n",
    "        print({col})\n",
    "\n"
   ]
  },
  {
   "cell_type": "markdown",
   "id": "4dbda927-cb97-4d1f-bc6f-dd5c4112be8d",
   "metadata": {},
   "source": [
    "### Number of unique values in each column of the Dataset"
   ]
  },
  {
   "cell_type": "code",
   "execution_count": 3,
   "id": "592f7df1-7e60-4fb0-ac3c-064972d15213",
   "metadata": {},
   "outputs": [
    {
     "data": {
      "text/plain": [
       "Number_of_Riders             81\n",
       "Number_of_Drivers            79\n",
       "Location_Category             3\n",
       "Customer_Loyalty_Status       3\n",
       "Number_of_Past_Rides        101\n",
       "Average_Ratings             151\n",
       "Time_of_Booking               4\n",
       "Vehicle_Type                  2\n",
       "Expected_Ride_Duration      171\n",
       "Historical_Cost_of_Ride    1000\n",
       "dtype: int64"
      ]
     },
     "execution_count": 3,
     "metadata": {},
     "output_type": "execute_result"
    }
   ],
   "source": [
    "df.nunique()"
   ]
  },
  {
   "cell_type": "markdown",
   "id": "1ff53788-b93f-4881-aaef-a149a8e84285",
   "metadata": {},
   "source": [
    "### Displaying the datatypes of each column"
   ]
  },
  {
   "cell_type": "code",
   "execution_count": 13,
   "id": "a6d1bc69-1552-4f99-9e3a-29689a2d60f9",
   "metadata": {},
   "outputs": [
    {
     "name": "stdout",
     "output_type": "stream",
     "text": [
      "\n",
      "Column Data Types:\n",
      " Number_of_Riders             int64\n",
      "Number_of_Drivers            int64\n",
      "Location_Category           object\n",
      "Customer_Loyalty_Status     object\n",
      "Number_of_Past_Rides         int64\n",
      "Average_Ratings            float64\n",
      "Time_of_Booking             object\n",
      "Vehicle_Type                object\n",
      "Expected_Ride_Duration       int64\n",
      "Historical_Cost_of_Ride    float64\n",
      "dtype: object\n"
     ]
    }
   ],
   "source": [
    "print(\"\\nColumn Data Types:\\n\", df.dtypes)"
   ]
  },
  {
   "cell_type": "markdown",
   "id": "7fbf7658-b91a-40c0-857f-ff97e9037b50",
   "metadata": {},
   "source": [
    "### Outlier detection using the IQR method for each numeric column in the dataset"
   ]
  },
  {
   "cell_type": "code",
   "execution_count": 17,
   "id": "419bd194-9dd0-44d6-ab77-512f032bb5a1",
   "metadata": {},
   "outputs": [
    {
     "name": "stdout",
     "output_type": "stream",
     "text": [
      "Outliers count per column:\n",
      " {'Number_of_Riders': 0, 'Number_of_Drivers': 10, 'Number_of_Past_Rides': 0, 'Average_Ratings': 0, 'Expected_Ride_Duration': 0, 'Historical_Cost_of_Ride': 0}\n"
     ]
    }
   ],
   "source": [
    "outlier_summary = {}\n",
    "\n",
    "for col in df.select_dtypes(include=['float64','int64']).columns:\n",
    "    Q1 = df[col].quantile(0.25)\n",
    "    Q3 = df[col].quantile(0.75)\n",
    "    IQR = Q3 - Q1\n",
    "    lower_bound = Q1 - 1.5 * IQR\n",
    "    upper_bound = Q3 + 1.5 * IQR\n",
    "    \n",
    "    outliers = df[(df[col] < lower_bound) | (df[col] > upper_bound)]\n",
    "    outlier_summary[col] = len(outliers)\n",
    "\n",
    "print(\"Outliers count per column:\\n\", outlier_summary)"
   ]
  },
  {
   "cell_type": "markdown",
   "id": "f9ea84ed-7332-4499-9f99-43169f4619c8",
   "metadata": {},
   "source": [
    "### Visualization of numeric columns with boxplots to spot outliers"
   ]
  },
  {
   "cell_type": "code",
   "execution_count": 20,
   "id": "4177c3c4-5d1c-4a33-8fca-fdc9d059b4a6",
   "metadata": {},
   "outputs": [
    {
     "data": {
      "image/png": "[encoded data removed]",
      "text/plain": [
       "<Figure size 1200x800 with 6 Axes>"
      ]
     },
     "metadata": {},
     "output_type": "display_data"
    }
   ],
   "source": [
    "import matplotlib.pyplot as plt\n",
    "import seaborn as sns\n",
    "\n",
    "df.select_dtypes(include=['float64','int64']).plot(kind='box', subplots=True, layout=(2,3), figsize=(12,8))\n",
    "plt.suptitle(\"Boxplots of Numeric Columns (Outliers shown as dots)\")\n",
    "plt.show()\n"
   ]
  },
  {
   "cell_type": "markdown",
   "id": "cc3d15cd-0b70-48bc-be15-e5c22a4c8832",
   "metadata": {},
   "source": [
    "# KPI IMPLEMENTATION\n"
   ]
  },
  {
   "cell_type": "markdown",
   "id": "498073bf-26fa-4c9c-8f4e-964f01f3bb68",
   "metadata": {},
   "source": [
    "## 1. Revenue\n",
    "### Calculating the total revenue earned assuming all rides are completed at historical prices.\n"
   ]
  },
  {
   "cell_type": "code",
   "execution_count": 1,
   "id": "230b3fe0-d390-499d-8fa9-4bdffd762fb2",
   "metadata": {},
   "outputs": [
    {
     "name": "stdout",
     "output_type": "stream",
     "text": [
      "     Number_of_Riders  Historical_Cost_of_Ride       Revenue\n",
      "0                  90               284.257273  25583.154572\n",
      "1                  58               173.874753  10084.735659\n",
      "2                  42               329.795469  13851.409696\n",
      "3                  89               470.201232  41847.909626\n",
      "4                  78               579.681422  45215.150944\n",
      "..                ...                      ...           ...\n",
      "995                33                91.389526   3015.854357\n",
      "996                84               424.155987  35629.102883\n",
      "997                44               157.364830   6924.052534\n",
      "998                53               279.095048  14792.037557\n",
      "999                78               655.065106  51095.078232\n",
      "\n",
      "[1000 rows x 3 columns]\n",
      "\n",
      "Total Revenue = 22514545.017633334\n"
     ]
    }
   ],
   "source": [
    "import pandas as pd\n",
    "import numpy as np\n",
    "df = pd.read_csv('dynamic_pricing.csv')\n",
    "\n",
    "df['Revenue'] = df['Historical_Cost_of_Ride'] * df['Number_of_Riders']\n",
    "\n",
    "print(df[['Number_of_Riders', 'Historical_Cost_of_Ride', 'Revenue']])\n",
    "print(\"\\nTotal Revenue =\", df['Revenue'].sum())"
   ]
  },
  {
   "cell_type": "markdown",
   "id": "8f164851-c16c-4f20-8451-90fe3c2d1bba",
   "metadata": {},
   "source": [
    "## 2.Profit\n",
    "### Computing the profit for each ride assuming operational cost is 70% of the ride price.\n"
   ]
  },
  {
   "cell_type": "code",
   "execution_count": 2,
   "id": "a61ce6bc-bf71-4f53-9f49-2efeb4e7f78f",
   "metadata": {},
   "outputs": [
    {
     "name": "stdout",
     "output_type": "stream",
     "text": [
      "     Number_of_Riders  Historical_Cost_of_Ride        Profit\n",
      "0                  90               284.257273   7674.946372\n",
      "1                  58               173.874753   3025.420698\n",
      "2                  42               329.795469   4155.422909\n",
      "3                  89               470.201232  12554.372888\n",
      "4                  78               579.681422  13564.545283\n",
      "..                ...                      ...           ...\n",
      "995                33                91.389526    904.756307\n",
      "996                84               424.155987  10688.730865\n",
      "997                44               157.364830   2077.215760\n",
      "998                53               279.095048   4437.611267\n",
      "999                78               655.065106  15328.523469\n",
      "\n",
      "[1000 rows x 3 columns]\n",
      "\n",
      "Total Profit = 6754363.505290002\n"
     ]
    }
   ],
   "source": [
    "df['Cost_per_Ride'] = df['Historical_Cost_of_Ride'] * 0.7\n",
    "df['Profit'] = (df['Historical_Cost_of_Ride'] - df['Cost_per_Ride']) * df['Number_of_Riders']\n",
    "\n",
    "print(df[['Number_of_Riders', 'Historical_Cost_of_Ride', 'Profit']])\n",
    "print(\"\\nTotal Profit =\", df['Profit'].sum())"
   ]
  },
  {
   "cell_type": "markdown",
   "id": "1a9b95ce-fcac-4e74-b705-147a8cc7d1be",
   "metadata": {},
   "source": [
    "## 3.Revenue Lift\n",
    "### Calculating the percentage increase in revenue using recommended (dynamic) prices compared to baseline."
   ]
  },
  {
   "cell_type": "code",
   "execution_count": 7,
   "id": "78ea0da4-c1b7-48c8-919e-4af8c9cf8dc0",
   "metadata": {},
   "outputs": [
    {
     "name": "stdout",
     "output_type": "stream",
     "text": [
      "     Number_of_Riders       Revenue  Revenue_Recommended  Revenue_Lift_%\n",
      "0                  90  25583.154572         28141.470029            10.0\n",
      "1                  58  10084.735659         11093.209225            10.0\n",
      "2                  42  13851.409696         15236.550666            10.0\n",
      "3                  89  41847.909626         46032.700588            10.0\n",
      "4                  78  45215.150944         49736.666039            10.0\n",
      "..                ...           ...                  ...             ...\n",
      "995                33   3015.854357          3317.439793            10.0\n",
      "996                84  35629.102883         39192.013171            10.0\n",
      "997                44   6924.052534          7616.457788            10.0\n",
      "998                53  14792.037557         16271.241313            10.0\n",
      "999                78  51095.078232         56204.586055            10.0\n",
      "\n",
      "[1000 rows x 4 columns]\n",
      "\n",
      "Average Revenue Lift % = 10.000000000000007\n"
     ]
    }
   ],
   "source": [
    "df['Recommended_Price'] = df['Historical_Cost_of_Ride'] * 1.1\n",
    "df['Revenue_Recommended'] = df['Recommended_Price'] * df['Number_of_Riders']\n",
    "\n",
    "\n",
    "df['Revenue'] = df['Historical_Cost_of_Ride'] * df['Number_of_Riders']\n",
    "\n",
    "df['Revenue_Lift_%'] = (df['Revenue_Recommended'] - df['Revenue']) / df['Revenue'] * 100\n",
    "\n",
    "print(df[['Number_of_Riders', 'Revenue', 'Revenue_Recommended', 'Revenue_Lift_%']])\n",
    "print(\"\\nAverage Revenue Lift % =\", df['Revenue_Lift_%'].mean())"
   ]
  },
  {
   "cell_type": "markdown",
   "id": "2e0e3868-78c5-4e89-8c53-858d01f30f9e",
   "metadata": {},
   "source": [
    "## 4.Gross Margin\n",
    "### Computing the gross margin percentage as revenue minus cost over revenue for each ride."
   ]
  },
  {
   "cell_type": "code",
   "execution_count": 6,
   "id": "0af2fe68-f97e-4c92-97f1-cb67a26d2faf",
   "metadata": {},
   "outputs": [
    {
     "name": "stdout",
     "output_type": "stream",
     "text": [
      "     Number_of_Riders  Baseline_Revenue  Gross_Margin_%\n",
      "0                  90      25583.154572            30.0\n",
      "1                  58      10084.735659            30.0\n",
      "2                  42      13851.409696            30.0\n",
      "3                  89      41847.909626            30.0\n",
      "4                  78      45215.150944            30.0\n",
      "..                ...               ...             ...\n",
      "995                33       3015.854357            30.0\n",
      "996                84      35629.102883            30.0\n",
      "997                44       6924.052534            30.0\n",
      "998                53      14792.037557            30.0\n",
      "999                78      51095.078232            30.0\n",
      "\n",
      "[1000 rows x 3 columns]\n",
      "\n",
      "Average Gross Margin % = 30.0\n"
     ]
    }
   ],
   "source": [
    "df['Cost_per_Ride'] = df['Historical_Cost_of_Ride'] * 0.7\n",
    "df['Baseline_Revenue'] = df['Historical_Cost_of_Ride'] * df['Number_of_Riders']\n",
    "\n",
    "df['Gross_Margin_%'] = (df['Baseline_Revenue'] - (df['Cost_per_Ride'] * df['Number_of_Riders'])) / df['Baseline_Revenue'] * 100\n",
    "\n",
    "print(df[['Number_of_Riders', 'Baseline_Revenue', 'Gross_Margin_%']])\n",
    "print(\"\\nAverage Gross Margin % =\", df['Gross_Margin_%'].mean())"
   ]
  },
  {
   "cell_type": "markdown",
   "id": "ac7b60d0-7f1b-48ea-a4e3-8b2c704d4205",
   "metadata": {},
   "source": [
    "## 5.Conversion Rate\n",
    "### Calculating the ride conversion rate assuming all booking intents result in completed rides."
   ]
  },
  {
   "cell_type": "code",
   "execution_count": 5,
   "id": "a97c659e-7c36-4d5d-a5c3-1fdfe93422e4",
   "metadata": {},
   "outputs": [
    {
     "name": "stdout",
     "output_type": "stream",
     "text": [
      "     Number_of_Riders  Conversion_Rate_%\n",
      "0                  90              100.0\n",
      "1                  58              100.0\n",
      "2                  42              100.0\n",
      "3                  89              100.0\n",
      "4                  78              100.0\n",
      "..                ...                ...\n",
      "995                33              100.0\n",
      "996                84              100.0\n",
      "997                44              100.0\n",
      "998                53              100.0\n",
      "999                78              100.0\n",
      "\n",
      "[1000 rows x 2 columns]\n",
      "\n",
      "Average Conversion Rate % = 100.0\n"
     ]
    }
   ],
   "source": [
    "df['Conversion_Rate_%'] = 100.0\n",
    "\n",
    "print(df[['Number_of_Riders', 'Conversion_Rate_%']])\n",
    "print(\"\\nAverage Conversion Rate % =\", df['Conversion_Rate_%'].mean())"
   ]
  },
  {
   "cell_type": "markdown",
   "id": "7bef5fa0-b9e5-49ae-b825-fe82891de674",
   "metadata": {},
   "source": [
    "## 6.Price Change Rate\n",
    "### Calculating the percentage of rides where the recommended price differs from the historical price."
   ]
  },
  {
   "cell_type": "code",
   "execution_count": 4,
   "id": "b13468de-276f-4a5f-9824-ec1c263beb9e",
   "metadata": {},
   "outputs": [
    {
     "name": "stdout",
     "output_type": "stream",
     "text": [
      "     Historical_Cost_of_Ride  Recommended_Price  Price_Changed\n",
      "0                 284.257273         312.683000           True\n",
      "1                 173.874753         191.262228           True\n",
      "2                 329.795469         362.775016           True\n",
      "3                 470.201232         517.221355           True\n",
      "4                 579.681422         637.649565           True\n",
      "..                       ...                ...            ...\n",
      "995                91.389526         100.528479           True\n",
      "996               424.155987         466.571585           True\n",
      "997               157.364830         173.101313           True\n",
      "998               279.095048         307.004553           True\n",
      "999               655.065106         720.571616           True\n",
      "\n",
      "[1000 rows x 3 columns]\n",
      "\n",
      "Overall Price Change Rate % = 100.0\n"
     ]
    }
   ],
   "source": [
    "df['Recommended_Price'] = df['Historical_Cost_of_Ride'] * 1.1\n",
    "\n",
    "df['Price_Changed'] = df['Historical_Cost_of_Ride'] != df['Recommended_Price']\n",
    "price_change_rate = df['Price_Changed'].sum() / len(df) * 100\n",
    "\n",
    "print(df[['Historical_Cost_of_Ride', 'Recommended_Price', 'Price_Changed']])\n",
    "print(\"\\nOverall Price Change Rate % =\", price_change_rate)\n"
   ]
  },
  {
   "cell_type": "markdown",
   "id": "f0904a65-4693-4d4e-8ec6-a3ef39d0eb2a",
   "metadata": {},
   "source": [
    "## 7.Cancellation Rate\n",
    "### Computing the percentage of rides canceled, assuming 5% cancellations for all rides."
   ]
  },
  {
   "cell_type": "code",
   "execution_count": 3,
   "id": "1c3a25f8-f780-4b56-afb2-c4a3cf93a796",
   "metadata": {},
   "outputs": [
    {
     "name": "stdout",
     "output_type": "stream",
     "text": [
      "     Number_of_Riders  Cancelled_Rides  Cancellation_Rate_%\n",
      "0                  90                4             4.444444\n",
      "1                  58                2             3.448276\n",
      "2                  42                2             4.761905\n",
      "3                  89                4             4.494382\n",
      "4                  78                3             3.846154\n",
      "..                ...              ...                  ...\n",
      "995                33                1             3.030303\n",
      "996                84                4             4.761905\n",
      "997                44                2             4.545455\n",
      "998                53                2             3.773585\n",
      "999                78                3             3.846154\n",
      "\n",
      "[1000 rows x 3 columns]\n",
      "\n",
      "Average Cancellation Rate % = 4.112951786676691\n"
     ]
    }
   ],
   "source": [
    "df['Cancelled_Rides'] = (df['Number_of_Riders'] * 0.05).astype(int)\n",
    "df['Cancellation_Rate_%'] = df['Cancelled_Rides'] / df['Number_of_Riders'] * 100\n",
    "\n",
    "print(df[['Number_of_Riders', 'Cancelled_Rides', 'Cancellation_Rate_%']])\n",
    "print(\"\\nAverage Cancellation Rate % =\", df['Cancellation_Rate_%'].mean())"
   ]
  },
  {
   "cell_type": "markdown",
   "id": "26d684d4-6f32-4aba-985d-97b353ec9934",
   "metadata": {},
   "source": [
    "# FEATURE ENGINEERING"
   ]
  },
  {
   "cell_type": "code",
   "execution_count": null,
   "id": "850707b4-4a33-46f7-b00f-fcbeb5ea9a60",
   "metadata": {},
   "outputs": [],
   "source": []
  }
 ],
 "metadata": {
  "kernelspec": {
   "display_name": "Python [conda env:base] *",
   "language": "python",
   "name": "conda-base-py"
  },
  "language_info": {
   "codemirror_mode": {
    "name": "ipython",
    "version": 3
   },
   "file_extension": ".py",
   "mimetype": "text/x-python",
   "name": "python",
   "nbconvert_exporter": "python",
   "pygments_lexer": "ipython3",
   "version": "3.13.5"
  }
 },
 "nbformat": 4,
 "nbformat_minor": 5
}
